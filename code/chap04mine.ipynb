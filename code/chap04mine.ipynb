{
 "cells": [
  {
   "cell_type": "markdown",
   "metadata": {},
   "source": [
    "# Examples and Exercises from Think Stats, 2nd Edition\n",
    "\n",
    "http://thinkstats2.com\n",
    "\n",
    "Copyright 2016 Allen B. Downey\n",
    "\n",
    "MIT License: https://opensource.org/licenses/MIT\n"
   ]
  },
  {
   "cell_type": "code",
   "execution_count": 1,
   "metadata": {},
   "outputs": [],
   "source": [
    "from __future__ import print_function, division\n",
    "\n",
    "%matplotlib inline\n",
    "\n",
    "import numpy as np\n",
    "\n",
    "import nsfg\n",
    "import first\n",
    "import thinkstats2\n",
    "import thinkplot"
   ]
  },
  {
   "cell_type": "markdown",
   "metadata": {},
   "source": [
    "## Examples\n",
    "\n",
    "One more time, I'll load the data from the NSFG."
   ]
  },
  {
   "cell_type": "code",
   "execution_count": 2,
   "metadata": {},
   "outputs": [],
   "source": [
    "live, firsts, others = first.MakeFrames()"
   ]
  },
  {
   "cell_type": "markdown",
   "metadata": {},
   "source": [
    "And compute the distribution of birth weight for first babies and others."
   ]
  },
  {
   "cell_type": "code",
   "execution_count": 3,
   "metadata": {},
   "outputs": [
    {
     "name": "stdout",
     "output_type": "stream",
     "text": [
      "Firsts 4413 4363\n",
      "Others 4735 4675\n"
     ]
    }
   ],
   "source": [
    "first_wgt = firsts.totalwgt_lb\n",
    "first_wgt_dropna = first_wgt.dropna()\n",
    "print('Firsts', len(first_wgt), len(first_wgt_dropna))\n",
    " \n",
    "other_wgt = others.totalwgt_lb\n",
    "other_wgt_dropna = other_wgt.dropna()\n",
    "print('Others', len(other_wgt), len(other_wgt_dropna))\n",
    "\n",
    "first_pmf = thinkstats2.Pmf(first_wgt_dropna, label='first')\n",
    "other_pmf = thinkstats2.Pmf(other_wgt_dropna, label='other')"
   ]
  },
  {
   "cell_type": "markdown",
   "metadata": {},
   "source": [
    "We can plot the PMFs on the same scale, but it is hard to see if there is a difference."
   ]
  },
  {
   "cell_type": "code",
   "execution_count": 4,
   "metadata": {},
   "outputs": [
    {
     "data": {
      "image/png": "[encoded data removed]",
      "text/plain": [
       "<Figure size 432x288 with 1 Axes>"
      ]
     },
     "metadata": {},
     "output_type": "display_data"
    }
   ],
   "source": [
    "width = 0.4 / 16\n",
    "\n",
    "# plot PMFs of birth weights for first babies and others\n",
    "thinkplot.PrePlot(2)\n",
    "thinkplot.Hist(first_pmf, align='right', width=width)\n",
    "thinkplot.Hist(other_pmf, align='left', width=width)\n",
    "thinkplot.Config(xlabel='Weight (pounds)', ylabel='PMF')"
   ]
  },
  {
   "cell_type": "markdown",
   "metadata": {},
   "source": [
    "`PercentileRank` computes the fraction of `scores` less than or equal to `your_score`."
   ]
  },
  {
   "cell_type": "code",
   "execution_count": 5,
   "metadata": {},
   "outputs": [],
   "source": [
    "def PercentileRank(scores, your_score):\n",
    "    count = 0\n",
    "    for score in scores:\n",
    "        if score <= your_score:\n",
    "            count += 1\n",
    "\n",
    "    percentile_rank = 100.0 * count / len(scores)\n",
    "    return percentile_rank"
   ]
  },
  {
   "cell_type": "markdown",
   "metadata": {},
   "source": [
    "If this is the list of scores."
   ]
  },
  {
   "cell_type": "code",
   "execution_count": 6,
   "metadata": {},
   "outputs": [],
   "source": [
    "t = [55, 66, 77, 88, 99]"
   ]
  },
  {
   "cell_type": "markdown",
   "metadata": {},
   "source": [
    "And you got the 88, your percentile rank is 80."
   ]
  },
  {
   "cell_type": "code",
   "execution_count": 7,
   "metadata": {},
   "outputs": [
    {
     "data": {
      "text/plain": [
       "80.0"
      ]
     },
     "execution_count": 7,
     "metadata": {},
     "output_type": "execute_result"
    }
   ],
   "source": [
    "PercentileRank(t, 88)"
   ]
  },
  {
   "cell_type": "markdown",
   "metadata": {},
   "source": [
    "`Percentile` takes a percentile rank and computes the corresponding percentile. "
   ]
  },
  {
   "cell_type": "code",
   "execution_count": 8,
   "metadata": {},
   "outputs": [],
   "source": [
    "def Percentile(scores, percentile_rank):\n",
    "    scores.sort()\n",
    "    for score in scores:\n",
    "        if PercentileRank(scores, score) >= percentile_rank:\n",
    "            return score"
   ]
  },
  {
   "cell_type": "markdown",
   "metadata": {},
   "source": [
    "The median is the 50th percentile, which is 77."
   ]
  },
  {
   "cell_type": "code",
   "execution_count": 11,
   "metadata": {},
   "outputs": [
    {
     "data": {
      "text/plain": [
       "77"
      ]
     },
     "execution_count": 11,
     "metadata": {},
     "output_type": "execute_result"
    }
   ],
   "source": [
    "Percentile(t, 50)"
   ]
  },
  {
   "cell_type": "markdown",
   "metadata": {},
   "source": [
    "Here's a more efficient way to compute percentiles."
   ]
  },
  {
   "cell_type": "code",
   "execution_count": 12,
   "metadata": {},
   "outputs": [],
   "source": [
    "def Percentile2(scores, percentile_rank):\n",
    "    scores.sort()\n",
    "    index = percentile_rank * (len(scores)-1) // 100\n",
    "    return scores[index]"
   ]
  },
  {
   "cell_type": "markdown",
   "metadata": {},
   "source": [
    "Let's hope we get the same answer."
   ]
  },
  {
   "cell_type": "code",
   "execution_count": 13,
   "metadata": {},
   "outputs": [
    {
     "data": {
      "text/plain": [
       "77"
      ]
     },
     "execution_count": 13,
     "metadata": {},
     "output_type": "execute_result"
    }
   ],
   "source": [
    "Percentile2(t, 50)"
   ]
  },
  {
   "cell_type": "markdown",
   "metadata": {},
   "source": [
    "The Cumulative Distribution Function (CDF) is almost the same as `PercentileRank`.  The only difference is that the result is 0-1 instead of 0-100."
   ]
  },
  {
   "cell_type": "code",
   "execution_count": 14,
   "metadata": {},
   "outputs": [],
   "source": [
    "def EvalCdf(sample, x):\n",
    "    count = 0.0\n",
    "    for value in sample:\n",
    "        if value <= x:\n",
    "            count += 1\n",
    "\n",
    "    prob = count / len(sample)\n",
    "    return prob"
   ]
  },
  {
   "cell_type": "markdown",
   "metadata": {},
   "source": [
    "In this list"
   ]
  },
  {
   "cell_type": "code",
   "execution_count": 15,
   "metadata": {},
   "outputs": [],
   "source": [
    "t = [1, 2, 2, 3, 5]"
   ]
  },
  {
   "cell_type": "markdown",
   "metadata": {},
   "source": [
    "We can evaluate the CDF for various values:"
   ]
  },
  {
   "cell_type": "code",
   "execution_count": 16,
   "metadata": {},
   "outputs": [
    {
     "data": {
      "text/plain": [
       "(0.0, 0.2, 0.6, 0.8, 0.8, 1.0)"
      ]
     },
     "execution_count": 16,
     "metadata": {},
     "output_type": "execute_result"
    }
   ],
   "source": [
    "EvalCdf(t, 0), EvalCdf(t, 1), EvalCdf(t, 2), EvalCdf(t, 3), EvalCdf(t, 4), EvalCdf(t, 5)"
   ]
  },
  {
   "cell_type": "markdown",
   "metadata": {},
   "source": [
    "Here's an example using real data, the distribution of pregnancy length for live births."
   ]
  },
  {
   "cell_type": "code",
   "execution_count": 17,
   "metadata": {},
   "outputs": [
    {
     "data": {
      "image/png": "[encoded data removed]",
      "text/plain": [
       "<Figure size 432x288 with 1 Axes>"
      ]
     },
     "metadata": {},
     "output_type": "display_data"
    }
   ],
   "source": [
    "cdf = thinkstats2.Cdf(live.prglngth, label='prglngth')\n",
    "thinkplot.Cdf(cdf)\n",
    "thinkplot.Config(xlabel='Pregnancy length (weeks)', ylabel='CDF', loc='upper left')"
   ]
  },
  {
   "cell_type": "markdown",
   "metadata": {},
   "source": [
    "`Cdf` provides `Prob`, which evaluates the CDF; that is, it computes the fraction of values less than or equal to the given value.  For example, 94% of pregnancy lengths are less than or equal to 41."
   ]
  },
  {
   "cell_type": "code",
   "execution_count": 18,
   "metadata": {},
   "outputs": [
    {
     "data": {
      "text/plain": [
       "0.9406427634455619"
      ]
     },
     "execution_count": 18,
     "metadata": {},
     "output_type": "execute_result"
    }
   ],
   "source": [
    "cdf.Prob(41)"
   ]
  },
  {
   "cell_type": "markdown",
   "metadata": {
    "collapsed": true
   },
   "source": [
    "`Value` evaluates the inverse CDF; given a fraction, it computes the corresponding value.  For example, the median is the value that corresponds to 0.5."
   ]
  },
  {
   "cell_type": "code",
   "execution_count": 19,
   "metadata": {},
   "outputs": [
    {
     "data": {
      "text/plain": [
       "39"
      ]
     },
     "execution_count": 19,
     "metadata": {},
     "output_type": "execute_result"
    }
   ],
   "source": [
    "cdf.Value(0.5)"
   ]
  },
  {
   "cell_type": "markdown",
   "metadata": {},
   "source": [
    "In general, CDFs are a good way to visualize distributions.  They are not as noisy as PMFs, and if you plot several CDFs on the same axes, any differences between them are apparent."
   ]
  },
  {
   "cell_type": "code",
   "execution_count": 20,
   "metadata": {},
   "outputs": [
    {
     "data": {
      "image/png": "[encoded data removed]",
      "text/plain": [
       "<Figure size 432x288 with 1 Axes>"
      ]
     },
     "metadata": {},
     "output_type": "display_data"
    }
   ],
   "source": [
    "first_cdf = thinkstats2.Cdf(firsts.totalwgt_lb, label='first')\n",
    "other_cdf = thinkstats2.Cdf(others.totalwgt_lb, label='other')\n",
    "\n",
    "thinkplot.PrePlot(2)\n",
    "thinkplot.Cdfs([first_cdf, other_cdf])\n",
    "thinkplot.Config(xlabel='Weight (pounds)', ylabel='CDF')"
   ]
  },
  {
   "cell_type": "markdown",
   "metadata": {},
   "source": [
    "In this example, we can see that first babies are slightly, but consistently, lighter than others.\n",
    "\n",
    "We can use the CDF of birth weight to compute percentile-based statistics."
   ]
  },
  {
   "cell_type": "code",
   "execution_count": 21,
   "metadata": {},
   "outputs": [],
   "source": [
    "weights = live.totalwgt_lb\n",
    "live_cdf = thinkstats2.Cdf(weights, label='live')"
   ]
  },
  {
   "cell_type": "markdown",
   "metadata": {},
   "source": [
    "Again, the median is the 50th percentile."
   ]
  },
  {
   "cell_type": "code",
   "execution_count": 22,
   "metadata": {},
   "outputs": [
    {
     "data": {
      "text/plain": [
       "7.375"
      ]
     },
     "execution_count": 22,
     "metadata": {},
     "output_type": "execute_result"
    }
   ],
   "source": [
    "median = live_cdf.Percentile(50)\n",
    "median"
   ]
  },
  {
   "cell_type": "markdown",
   "metadata": {},
   "source": [
    "The interquartile range is the interval from the 25th to 75th percentile."
   ]
  },
  {
   "cell_type": "code",
   "execution_count": 23,
   "metadata": {},
   "outputs": [
    {
     "data": {
      "text/plain": [
       "(6.5, 8.125)"
      ]
     },
     "execution_count": 23,
     "metadata": {},
     "output_type": "execute_result"
    }
   ],
   "source": [
    "iqr = (live_cdf.Percentile(25), live_cdf.Percentile(75))\n",
    "iqr"
   ]
  },
  {
   "cell_type": "markdown",
   "metadata": {},
   "source": [
    "We can use the CDF to look up the percentile rank of a particular value.  For example, my second daughter was 10.2 pounds at birth, which is near the 99th percentile."
   ]
  },
  {
   "cell_type": "code",
   "execution_count": 24,
   "metadata": {},
   "outputs": [
    {
     "data": {
      "text/plain": [
       "98.82717415357381"
      ]
     },
     "execution_count": 24,
     "metadata": {},
     "output_type": "execute_result"
    }
   ],
   "source": [
    "live_cdf.PercentileRank(10.2)"
   ]
  },
  {
   "cell_type": "markdown",
   "metadata": {},
   "source": [
    "If we draw a random sample from the observed weights and map each weigh to its percentile rank."
   ]
  },
  {
   "cell_type": "code",
   "execution_count": 25,
   "metadata": {},
   "outputs": [],
   "source": [
    "sample = np.random.choice(weights, 100, replace=True)\n",
    "ranks = [live_cdf.PercentileRank(x) for x in sample]"
   ]
  },
  {
   "cell_type": "markdown",
   "metadata": {},
   "source": [
    "The resulting list of ranks should be approximately uniform from 0-1."
   ]
  },
  {
   "cell_type": "code",
   "execution_count": 26,
   "metadata": {},
   "outputs": [
    {
     "name": "stderr",
     "output_type": "stream",
     "text": [
      "No handles with labels found to put in legend.\n"
     ]
    },
    {
     "data": {
      "image/png": "[encoded data removed]",
      "text/plain": [
       "<Figure size 432x288 with 1 Axes>"
      ]
     },
     "metadata": {},
     "output_type": "display_data"
    }
   ],
   "source": [
    "rank_cdf = thinkstats2.Cdf(ranks)\n",
    "thinkplot.Cdf(rank_cdf)\n",
    "thinkplot.Config(xlabel='Percentile rank', ylabel='CDF')"
   ]
  },
  {
   "cell_type": "markdown",
   "metadata": {},
   "source": [
    "That observation is the basis of `Cdf.Sample`, which generates a random sample from a Cdf.  Here's an example."
   ]
  },
  {
   "cell_type": "code",
   "execution_count": 27,
   "metadata": {},
   "outputs": [
    {
     "data": {
      "image/png": "[encoded data removed]",
      "text/plain": [
       "<Figure size 432x288 with 1 Axes>"
      ]
     },
     "metadata": {},
     "output_type": "display_data"
    }
   ],
   "source": [
    "resample = live_cdf.Sample(1000)\n",
    "thinkplot.Cdf(live_cdf)\n",
    "thinkplot.Cdf(thinkstats2.Cdf(resample, label='resample'))\n",
    "thinkplot.Config(xlabel='Birth weight (pounds)', ylabel='CDF')"
   ]
  },
  {
   "cell_type": "markdown",
   "metadata": {},
   "source": [
    "This confirms that the random sample has the same distribution as the original data."
   ]
  },
  {
   "cell_type": "markdown",
   "metadata": {
    "collapsed": true
   },
   "source": [
    "## Exercises"
   ]
  },
  {
   "cell_type": "markdown",
   "metadata": {
    "collapsed": true
   },
   "source": [
    "**Exercise:** How much did you weigh at birth? If you don’t know, call your mother or someone else who knows. Using the NSFG data (all live births), compute the distribution of birth weights and use it to find your percentile rank. If you were a first baby, find your percentile rank in the distribution for first babies. Otherwise use the distribution for others. If you are in the 90th percentile or higher, call your mother back and apologize."
   ]
  },
  {
   "cell_type": "code",
   "execution_count": 33,
   "metadata": {},
   "outputs": [
    {
     "data": {
      "text/plain": [
       "0.3431125372450149"
      ]
     },
     "execution_count": 33,
     "metadata": {},
     "output_type": "execute_result"
    }
   ],
   "source": [
    "# Solution goes here\n",
    "first_cdf.Prob(6.8)"
   ]
  },
  {
   "cell_type": "code",
   "execution_count": 27,
   "metadata": {},
   "outputs": [],
   "source": [
    "# Solution goes here"
   ]
  },
  {
   "cell_type": "markdown",
   "metadata": {
    "collapsed": true
   },
   "source": [
    "**Exercise:** The numbers generated by `numpy.random.random` are supposed to be uniform between 0 and 1; that is, every value in the range should have the same probability.\n",
    "\n",
    "Generate 1000 numbers from `numpy.random.random` and plot their PMF.  What goes wrong?\n",
    "\n",
    "Now plot the CDF. Is the distribution uniform?"
   ]
  },
  {
   "cell_type": "code",
   "execution_count": 46,
   "metadata": {},
   "outputs": [
    {
     "data": {
      "text/plain": [
       "array([5.25652269e-01, 4.89523451e-01, 2.98697138e-01, 9.11104949e-01,\n",
       "       4.38732886e-01, 4.70058386e-01, 9.32273077e-01, 7.70971904e-01,\n",
       "       9.91236997e-01, 8.09522101e-01, 4.89992515e-01, 9.15796604e-01,\n",
       "       2.06637587e-01, 9.69051823e-01, 1.88851455e-01, 9.30522272e-01,\n",
       "       6.22083082e-01, 2.58741788e-02, 1.92136848e-01, 8.81819629e-01,\n",
       "       2.35262205e-02, 3.60044005e-01, 5.94913868e-01, 6.96955823e-01,\n",
       "       9.80323946e-01, 7.04008352e-02, 2.95083374e-02, 8.65157315e-01,\n",
       "       9.76978209e-01, 7.76394673e-01, 1.07538866e-02, 5.54191708e-01,\n",
       "       8.34034840e-01, 7.89288052e-01, 6.33026003e-01, 6.03023514e-02,\n",
       "       7.05198346e-01, 3.36467967e-01, 7.86253951e-02, 1.87032495e-01,\n",
       "       1.96176511e-01, 5.30982888e-01, 9.69454623e-01, 1.74472439e-01,\n",
       "       8.83656840e-01, 9.40237463e-01, 2.18786195e-01, 9.02455487e-01,\n",
       "       7.90568022e-01, 1.18212904e-01, 3.09889064e-01, 1.34813423e-01,\n",
       "       8.85071648e-02, 2.52904979e-01, 6.69368341e-01, 1.85420271e-01,\n",
       "       1.93310070e-01, 3.00721737e-01, 9.62809117e-01, 3.50065805e-01,\n",
       "       3.40508442e-02, 6.24456156e-02, 4.04822815e-01, 3.96614514e-01,\n",
       "       9.85701172e-03, 3.75802253e-01, 2.45008832e-02, 3.03684954e-01,\n",
       "       1.94670562e-02, 4.59443226e-01, 9.67941033e-01, 4.03712289e-01,\n",
       "       2.48109411e-01, 4.92568604e-01, 7.74580462e-01, 3.56354560e-01,\n",
       "       1.93491093e-02, 5.11890222e-02, 8.84701651e-01, 4.05279707e-01,\n",
       "       8.92529666e-01, 8.43175679e-01, 4.46559524e-01, 8.24821397e-01,\n",
       "       8.65654366e-01, 2.12108101e-01, 7.08902947e-01, 5.58449900e-01,\n",
       "       9.08926503e-01, 5.86148102e-01, 5.23121141e-01, 1.52159108e-01,\n",
       "       9.64155825e-01, 4.73003239e-02, 5.48965538e-01, 6.33363442e-02,\n",
       "       3.57230192e-01, 1.07160896e-01, 3.82289594e-01, 5.22520577e-01,\n",
       "       6.96883046e-02, 9.86454656e-01, 6.61160971e-01, 4.02851969e-01,\n",
       "       8.05734136e-01, 8.60122554e-01, 6.10668906e-01, 4.11645732e-01,\n",
       "       9.02194821e-01, 3.15445311e-01, 8.90416010e-01, 3.83414196e-01,\n",
       "       1.57421123e-01, 7.20516048e-01, 6.36630164e-01, 5.92761393e-01,\n",
       "       8.11335277e-01, 4.09301346e-01, 7.54156917e-01, 8.69535963e-02,\n",
       "       7.03889580e-01, 2.97062623e-01, 9.39977779e-01, 9.45681870e-01,\n",
       "       5.89197765e-01, 3.55042061e-01, 8.44738091e-03, 2.50389196e-01,\n",
       "       6.28946914e-01, 9.03023682e-01, 3.62836654e-01, 5.65742560e-01,\n",
       "       5.98443504e-01, 8.63622164e-01, 8.48863662e-01, 1.49301740e-01,\n",
       "       2.72692819e-01, 7.24835087e-01, 7.33651990e-01, 6.62248885e-01,\n",
       "       2.97343107e-01, 5.61139010e-01, 9.60230832e-02, 6.22853673e-01,\n",
       "       5.55403825e-01, 7.07600246e-01, 2.02850599e-01, 3.62198205e-02,\n",
       "       9.60593455e-01, 1.15506108e-01, 5.72765630e-01, 7.32216810e-01,\n",
       "       7.54840164e-01, 1.38866162e-01, 1.61905226e-01, 4.46872075e-01,\n",
       "       9.21549117e-01, 3.31865776e-01, 1.27436562e-01, 4.94769908e-01,\n",
       "       1.38028956e-01, 1.06048859e-01, 7.14446509e-01, 7.96852504e-01,\n",
       "       8.30065951e-01, 2.50564121e-01, 9.82864666e-02, 6.97354503e-01,\n",
       "       1.32906029e-01, 1.75040831e-01, 8.12099244e-01, 2.61675132e-01,\n",
       "       5.79546301e-01, 4.12847156e-01, 8.28710081e-01, 6.26783356e-01,\n",
       "       6.38607164e-01, 2.21871567e-01, 4.42123354e-01, 1.50990182e-01,\n",
       "       3.05521557e-01, 8.69435198e-01, 8.38191940e-01, 6.49224816e-01,\n",
       "       9.38658676e-01, 7.51662172e-01, 3.74971894e-01, 1.28419132e-01,\n",
       "       8.49490053e-01, 1.57487201e-01, 6.81328282e-01, 8.28016230e-01,\n",
       "       7.58188858e-01, 9.87247706e-01, 2.12090820e-01, 8.13952079e-01,\n",
       "       3.20540182e-02, 8.60576135e-01, 4.00979244e-01, 8.69770242e-01,\n",
       "       2.94481137e-01, 4.68256285e-01, 5.05067815e-01, 8.97538927e-01,\n",
       "       5.86856025e-01, 7.82673802e-01, 2.68382635e-01, 2.03390852e-01,\n",
       "       8.67500753e-01, 9.35265994e-01, 7.38708977e-01, 1.08021852e-01,\n",
       "       1.35902734e-01, 4.99840003e-01, 3.29429009e-01, 9.15981577e-01,\n",
       "       9.76064788e-01, 8.06893590e-01, 1.20995158e-01, 1.85787538e-01,\n",
       "       1.89570155e-01, 5.57631976e-01, 3.54867430e-02, 6.89588995e-01,\n",
       "       7.02543667e-01, 6.32017150e-01, 1.64074894e-01, 4.39703198e-01,\n",
       "       2.18088602e-01, 8.55251954e-01, 9.63136066e-01, 4.92326793e-01,\n",
       "       8.38241501e-01, 3.52956258e-02, 3.95765951e-01, 4.01623261e-01,\n",
       "       6.97939926e-01, 4.88886009e-01, 6.45291267e-01, 5.47142874e-01,\n",
       "       9.59484275e-02, 7.25822572e-01, 2.76347288e-01, 9.49612336e-03,\n",
       "       6.41568664e-01, 5.72719175e-01, 4.60509841e-01, 3.68084896e-01,\n",
       "       4.31919134e-01, 1.63759282e-01, 8.74860169e-01, 4.63159536e-01,\n",
       "       1.78911565e-01, 1.20904970e-01, 6.19859222e-01, 2.44587701e-03,\n",
       "       7.38736909e-01, 1.57173693e-01, 2.32565159e-01, 7.05236948e-01,\n",
       "       1.37431137e-01, 9.50874165e-01, 6.48972311e-01, 6.47838758e-01,\n",
       "       3.75103728e-01, 9.31712125e-01, 4.47952234e-01, 8.19822839e-01,\n",
       "       6.11023381e-01, 2.00203801e-01, 3.71929940e-01, 2.21066809e-01,\n",
       "       2.72746058e-01, 1.21644817e-02, 1.27439403e-01, 8.09848145e-01,\n",
       "       9.71369575e-01, 7.49334688e-01, 1.76607868e-01, 8.80905473e-02,\n",
       "       6.61654627e-01, 1.89272846e-01, 9.62249845e-01, 4.26099638e-01,\n",
       "       4.82440277e-01, 3.80493103e-01, 8.78437687e-01, 3.37786843e-01,\n",
       "       2.69475439e-01, 8.66528178e-01, 7.87947382e-01, 8.97866431e-01,\n",
       "       6.87604810e-01, 5.22107850e-01, 2.04591533e-01, 6.45248012e-01,\n",
       "       9.23132757e-01, 1.39579674e-01, 9.86887597e-01, 3.51456946e-01,\n",
       "       6.31797774e-01, 4.06213798e-01, 3.59359204e-02, 7.60857171e-01,\n",
       "       7.32280295e-01, 4.63858187e-01, 2.74932528e-01, 9.62580626e-01,\n",
       "       6.89635759e-02, 8.36273466e-01, 7.53477053e-02, 6.40806571e-01,\n",
       "       3.56096123e-01, 6.47489050e-01, 3.05950823e-01, 4.65114780e-01,\n",
       "       9.49579475e-01, 3.81461521e-01, 7.99899908e-01, 3.40740436e-01,\n",
       "       3.28323976e-01, 6.12373053e-01, 4.16917586e-01, 5.32625325e-01,\n",
       "       6.69364974e-01, 4.10851390e-01, 7.98297082e-01, 5.55734429e-01,\n",
       "       3.49716075e-01, 5.07487088e-02, 8.47455512e-01, 2.35008697e-01,\n",
       "       5.31827541e-01, 5.99146446e-02, 6.45686182e-01, 5.41936502e-01,\n",
       "       7.78150038e-02, 4.26827108e-01, 1.36264098e-02, 4.41166132e-01,\n",
       "       3.38301966e-01, 4.51333549e-01, 4.39256565e-02, 9.92399443e-01,\n",
       "       3.77556340e-01, 2.33586997e-01, 1.63879244e-01, 1.43465653e-01,\n",
       "       4.75663974e-01, 8.92130082e-01, 8.12342910e-01, 7.38609667e-03,\n",
       "       6.14929778e-01, 9.01221337e-01, 8.75018941e-01, 1.38664502e-02,\n",
       "       3.38696389e-01, 9.99915905e-01, 9.91455783e-01, 6.99801159e-01,\n",
       "       1.44993735e-05, 3.76466725e-01, 1.13406084e-01, 5.95267531e-01,\n",
       "       2.75534981e-01, 8.50381443e-01, 9.79951783e-01, 5.53960772e-01,\n",
       "       3.69659043e-01, 7.39504598e-01, 5.44370514e-02, 9.94667471e-01,\n",
       "       8.75908615e-01, 2.48141287e-01, 3.57482037e-01, 6.75779992e-01,\n",
       "       8.12374481e-01, 4.90156247e-01, 7.45824816e-01, 5.67667421e-01,\n",
       "       9.07783404e-01, 6.01542070e-01, 8.41111706e-01, 7.27592223e-01,\n",
       "       4.38796723e-01, 7.51298628e-01, 2.00455313e-01, 2.56778258e-01,\n",
       "       6.26429332e-01, 1.59664700e-01, 9.90968389e-01, 1.72660439e-03,\n",
       "       4.48102985e-01, 2.69383504e-01, 5.94576681e-01, 9.04332834e-01,\n",
       "       8.98479442e-01, 6.50243697e-01, 3.29837887e-01, 7.37702283e-01,\n",
       "       1.78302101e-01, 7.64038079e-01, 8.47478024e-01, 5.70336149e-01,\n",
       "       1.36313664e-01, 3.16740445e-02, 1.50053740e-01, 9.85249851e-01,\n",
       "       7.46127457e-01, 5.38592243e-01, 9.45296423e-01, 9.47069456e-01,\n",
       "       5.76737838e-01, 4.36184246e-01, 5.06053739e-01, 7.36819259e-02,\n",
       "       6.23380947e-01, 8.12646921e-01, 8.69000027e-01, 3.29098630e-01,\n",
       "       2.42927551e-01, 4.85865729e-01, 1.58720925e-01, 7.55467992e-01,\n",
       "       2.05888676e-02, 4.54640831e-01, 1.95705000e-01, 8.88205943e-01,\n",
       "       3.38577823e-01, 7.36860397e-01, 1.81563326e-01, 7.22897256e-01,\n",
       "       4.56351366e-01, 9.87638290e-02, 9.57703544e-01, 5.71439262e-01,\n",
       "       9.72912587e-02, 1.24948408e-01, 2.49008330e-01, 2.79320412e-01,\n",
       "       4.59195333e-01, 2.09418988e-01, 8.14625524e-01, 3.75927324e-01,\n",
       "       5.14281853e-01, 2.11771340e-01, 5.01088481e-01, 4.66604099e-01,\n",
       "       7.91112772e-01, 3.66426336e-01, 2.22644515e-01, 5.84428512e-01,\n",
       "       9.97619669e-01, 5.67286476e-01, 5.38043688e-02, 6.16281747e-01,\n",
       "       4.52981831e-03, 3.18479717e-01, 4.68213520e-01, 2.29453720e-01,\n",
       "       5.40815765e-01, 7.14853314e-01, 5.24763533e-01, 7.14501749e-01,\n",
       "       3.23240445e-01, 7.32084800e-01, 6.81208924e-01, 9.84215779e-01,\n",
       "       8.79365817e-01, 6.05020133e-01, 8.11744865e-01, 3.10994387e-02,\n",
       "       3.88941655e-01, 5.93602164e-01, 2.05937674e-01, 7.55531767e-01,\n",
       "       4.92955080e-02, 7.10768610e-01, 1.17022425e-01, 9.11030150e-01,\n",
       "       7.77892158e-02, 5.69455491e-01, 3.51293524e-01, 3.24568315e-01,\n",
       "       4.35349227e-01, 9.62054571e-01, 1.89396505e-01, 8.01031518e-01,\n",
       "       5.08093444e-02, 9.40828415e-02, 6.37609339e-01, 6.43836916e-01,\n",
       "       7.76931760e-01, 5.77866140e-01, 3.47617208e-01, 3.92502764e-01,\n",
       "       5.79269195e-01, 5.08603987e-01, 5.52279268e-01, 8.55958136e-01,\n",
       "       7.20111099e-01, 1.73679465e-01, 5.62811295e-01, 4.19244396e-01,\n",
       "       6.34595737e-01, 5.80274968e-01, 6.16578659e-01, 8.14732628e-01,\n",
       "       9.10980676e-01, 6.83350330e-01, 3.74662416e-01, 9.41475901e-01,\n",
       "       9.04261103e-01, 6.22387413e-01, 4.95568959e-01, 9.52173428e-01,\n",
       "       3.01570635e-01, 4.07045716e-01, 7.35365401e-01, 1.74164906e-01,\n",
       "       1.52953721e-02, 7.38081815e-01, 9.28717563e-01, 4.93596940e-01,\n",
       "       1.38526448e-01, 2.01063252e-01, 3.01750780e-01, 5.19218005e-01,\n",
       "       3.38276943e-01, 3.14003801e-01, 5.57100275e-01, 6.03246287e-01,\n",
       "       2.10027228e-01, 7.12024097e-01, 1.12090599e-01, 6.00872534e-01,\n",
       "       6.71784186e-01, 9.39247011e-01, 3.85068973e-01, 3.63151545e-01,\n",
       "       9.39743754e-01, 1.15604779e-01, 3.94676874e-01, 2.11684303e-01,\n",
       "       1.72880179e-01, 8.93412383e-01, 8.88397007e-01, 4.02246862e-01,\n",
       "       1.21081827e-01, 3.14337650e-01, 8.66859832e-01, 6.73445613e-01,\n",
       "       1.46163212e-01, 7.62177487e-01, 5.32310330e-01, 2.33602946e-01,\n",
       "       2.44606149e-02, 8.28509348e-01, 3.66627505e-01, 8.97914894e-01,\n",
       "       2.57380801e-01, 2.74378035e-01, 8.94008207e-01, 5.85251097e-01,\n",
       "       9.19928099e-01, 4.59735190e-01, 4.44119706e-01, 7.86520974e-01,\n",
       "       9.97766895e-02, 2.03429627e-01, 6.89971928e-01, 7.73667548e-02,\n",
       "       4.80371234e-01, 6.00079842e-01, 3.99469181e-01, 6.83405467e-01,\n",
       "       2.17390061e-01, 8.01778613e-01, 9.76683650e-01, 1.22788686e-01,\n",
       "       2.05254841e-01, 7.42065321e-01, 8.89497674e-01, 4.88292421e-01,\n",
       "       8.63363207e-01, 5.50569671e-01, 7.53231166e-01, 1.46595405e-01,\n",
       "       4.44299633e-01, 4.21157075e-01, 7.85226099e-02, 2.39745559e-01,\n",
       "       1.10595725e-01, 7.49905138e-01, 9.13164907e-02, 8.85388351e-01,\n",
       "       5.42557986e-01, 2.03830950e-02, 9.56664694e-01, 6.36270394e-01,\n",
       "       7.09866602e-01, 7.59207820e-01, 2.12024594e-01, 4.19325410e-01,\n",
       "       9.87438516e-01, 9.20019382e-01, 2.46254724e-01, 6.90137330e-01,\n",
       "       2.90105194e-01, 6.59899704e-01, 7.60142323e-01, 6.46781989e-01,\n",
       "       5.85207948e-01, 8.53452918e-01, 1.61163972e-01, 9.94179477e-02,\n",
       "       3.70990402e-01, 4.20561637e-01, 1.78698594e-02, 6.58483991e-01,\n",
       "       6.57191624e-01, 1.76191837e-01, 8.00569491e-01, 6.90704949e-02,\n",
       "       8.08374059e-01, 1.49853480e-01, 8.01831509e-01, 6.19135881e-02,\n",
       "       7.11083052e-01, 3.98741609e-01, 5.29854427e-01, 2.93026432e-01,\n",
       "       5.17174394e-01, 8.89641522e-01, 1.73576648e-02, 8.14692344e-01,\n",
       "       2.63800563e-01, 1.20047874e-01, 9.60977355e-01, 5.60855592e-01,\n",
       "       1.34390381e-02, 6.61649077e-01, 9.67301074e-01, 3.43310851e-01,\n",
       "       3.08760530e-02, 5.42725649e-01, 8.00660530e-01, 4.38469886e-01,\n",
       "       1.25733264e-01, 1.78376781e-01, 8.74028832e-02, 6.65175121e-01,\n",
       "       2.53028782e-01, 4.07300125e-01, 1.37392782e-01, 5.64207590e-01,\n",
       "       4.52445366e-01, 6.33058650e-01, 2.39902719e-01, 5.16786869e-01,\n",
       "       2.24737743e-01, 6.30396579e-01, 2.10410248e-01, 4.52353089e-01,\n",
       "       9.10925047e-01, 5.99642745e-01, 6.89368877e-01, 3.79779853e-01,\n",
       "       5.79590932e-01, 6.91780984e-01, 2.10994966e-01, 9.96521771e-01,\n",
       "       4.37892567e-01, 3.39478713e-01, 5.21086206e-01, 4.93666315e-01,\n",
       "       2.94465835e-01, 8.17870993e-01, 2.33834290e-01, 9.97505138e-01,\n",
       "       2.06975731e-01, 6.44746740e-01, 5.42096514e-01, 4.81821865e-01,\n",
       "       1.72777567e-01, 1.06709242e-01, 6.48772778e-01, 9.67317410e-01,\n",
       "       3.72111619e-01, 1.91362944e-01, 3.88853867e-01, 3.60489437e-01,\n",
       "       5.04997157e-01, 1.03846303e-01, 5.17427749e-01, 4.64006895e-01,\n",
       "       1.98357593e-01, 8.87545092e-01, 8.09163039e-01, 9.48059293e-01,\n",
       "       6.36966163e-01, 5.48588443e-01, 4.07793582e-01, 2.18659725e-01,\n",
       "       5.28163580e-01, 8.39777887e-02, 1.10178990e-01, 3.23903778e-01,\n",
       "       5.14988726e-02, 9.84796256e-01, 3.34279248e-01, 1.65176552e-02,\n",
       "       5.63703085e-01, 4.00360673e-01, 1.74498627e-01, 4.43064883e-01,\n",
       "       6.01994038e-01, 1.67163606e-01, 7.89303693e-01, 3.80417767e-02,\n",
       "       9.98698742e-02, 4.81499909e-01, 5.69173354e-01, 3.35399605e-02,\n",
       "       4.40952067e-01, 5.04526064e-01, 8.70273594e-02, 9.26103255e-01,\n",
       "       8.77605644e-01, 2.63128589e-01, 5.11517336e-01, 8.04039422e-01,\n",
       "       2.23626344e-01, 6.93750050e-01, 8.01682092e-01, 4.80499764e-01,\n",
       "       2.05999031e-01, 8.87277448e-01, 8.62599118e-01, 7.54200064e-04,\n",
       "       7.75198991e-01, 9.89253042e-01, 8.47955406e-01, 5.41511940e-01,\n",
       "       2.15517289e-01, 6.67727433e-01, 4.17552998e-01, 7.92876771e-01,\n",
       "       4.58222635e-01, 6.61636427e-01, 1.05372404e-01, 2.29990676e-02,\n",
       "       5.71414740e-01, 4.22850790e-02, 1.91138831e-02, 8.79701518e-01,\n",
       "       9.25662620e-01, 2.68606709e-01, 8.92634843e-01, 6.99903856e-01,\n",
       "       3.33812104e-01, 8.40269668e-01, 5.64928052e-01, 5.09806651e-01,\n",
       "       3.04892766e-01, 2.38373250e-01, 3.76098125e-01, 2.75880450e-02,\n",
       "       2.31050056e-01, 8.47227356e-01, 4.38282770e-01, 1.02393243e-01,\n",
       "       9.70283692e-01, 2.58833838e-01, 8.62219579e-01, 4.49275662e-01,\n",
       "       4.48383766e-01, 2.44137540e-01, 8.57348891e-01, 8.67692416e-02,\n",
       "       6.45467683e-01, 6.81001508e-01, 8.29727990e-01, 7.24384309e-03,\n",
       "       3.23487366e-01, 9.39224780e-01, 5.94729041e-01, 7.16950147e-01,\n",
       "       6.00812961e-01, 7.81939362e-01, 1.29082626e-01, 1.92116841e-02,\n",
       "       5.61406416e-01, 7.14609081e-01, 8.06448370e-01, 9.27285989e-01,\n",
       "       7.28890477e-01, 4.15397318e-01, 9.69945133e-01, 1.93389745e-02,\n",
       "       9.54406648e-01, 9.83506786e-01, 3.86074656e-01, 4.93024639e-01,\n",
       "       8.13438702e-01, 1.27822837e-01, 5.88752399e-02, 8.80742046e-01,\n",
       "       6.12729683e-01, 3.32245241e-02, 5.45811446e-01, 9.78101686e-01,\n",
       "       2.53865186e-01, 6.78556734e-01, 1.41857474e-02, 6.45387243e-01,\n",
       "       3.25647408e-01, 6.56713312e-01, 7.71198498e-01, 5.23666832e-01,\n",
       "       9.92046048e-01, 7.23293532e-01, 1.57995355e-01, 4.27522739e-03,\n",
       "       4.88723077e-01, 2.69271861e-01, 1.57331547e-01, 9.42757838e-01,\n",
       "       6.65610136e-01, 8.97559668e-01, 3.20310878e-01, 1.38631054e-01,\n",
       "       9.08962797e-01, 7.62811759e-01, 1.58518886e-01, 5.16705514e-01,\n",
       "       4.89591865e-01, 7.03871332e-01, 1.25210054e-01, 7.17775518e-01,\n",
       "       5.91934237e-01, 1.20177322e-01, 9.13291242e-01, 1.38535881e-01,\n",
       "       1.11053831e-02, 8.49694748e-01, 5.96921374e-01, 1.87987200e-01,\n",
       "       9.65209504e-01, 2.81757797e-02, 2.24689656e-01, 9.09857032e-01,\n",
       "       1.44033898e-01, 2.74515411e-01, 3.67196945e-01, 8.30127458e-02,\n",
       "       4.83523367e-01, 3.60530923e-01, 1.19494615e-01, 1.00763843e-01,\n",
       "       7.21056670e-01, 2.63418514e-01, 2.04272997e-01, 6.16520499e-01,\n",
       "       2.18792884e-01, 6.09660022e-01, 7.41068768e-01, 1.77670030e-01,\n",
       "       5.89628590e-01, 6.39915285e-01, 8.94069192e-02, 1.03698209e-01,\n",
       "       6.11108086e-02, 5.76186515e-01, 8.14095505e-01, 8.56908959e-01,\n",
       "       9.56815639e-01, 2.36283704e-01, 4.35269526e-01, 6.19165634e-01,\n",
       "       3.89715616e-01, 7.99824641e-01, 4.15268468e-01, 3.68077582e-01,\n",
       "       6.86911193e-01, 6.07386838e-01, 8.73051277e-01, 6.64897372e-01,\n",
       "       1.17391608e-01, 3.13660716e-01, 6.06398157e-01, 1.50482258e-01,\n",
       "       3.80072673e-01, 3.51678948e-01, 3.30234055e-01, 7.25019693e-01,\n",
       "       3.76867319e-01, 1.36504663e-01, 9.31107159e-01, 7.33321131e-01,\n",
       "       3.47756775e-01, 5.12517934e-01, 5.74540605e-01, 8.75170469e-01,\n",
       "       3.50999360e-01, 5.22329941e-01, 6.43799605e-01, 6.19509005e-01,\n",
       "       9.10731667e-01, 9.04972700e-01, 7.90487135e-01, 2.05780001e-01,\n",
       "       4.13550895e-01, 3.61831507e-01, 4.84063812e-01, 1.40362648e-01,\n",
       "       3.51646554e-01, 7.12648234e-01, 1.01878816e-01, 2.62196367e-01,\n",
       "       8.96068709e-02, 4.37583136e-01, 2.09562396e-01, 6.68616203e-02,\n",
       "       7.34295860e-01, 1.54630107e-02, 7.18622581e-01, 1.62584644e-01,\n",
       "       8.38864976e-01, 7.75206508e-01, 2.15975053e-02, 5.65675148e-01,\n",
       "       3.19761097e-02, 8.82532723e-01, 7.43760137e-01, 5.69743150e-01,\n",
       "       5.63387207e-01, 2.08358707e-01, 6.12302679e-01, 9.18054716e-01,\n",
       "       8.35470760e-01, 3.13360396e-01, 9.61059548e-01, 9.93569672e-01,\n",
       "       3.17801701e-02, 8.10517581e-01, 8.80019769e-01, 9.52996685e-01,\n",
       "       5.12703264e-01, 1.82624489e-01, 2.64365147e-01, 2.60621576e-02,\n",
       "       5.99882891e-01, 7.06084458e-01, 9.78655179e-01, 5.99267901e-02,\n",
       "       4.37065657e-01, 7.94772738e-01, 5.01238548e-02, 9.67805765e-01,\n",
       "       2.95780334e-01, 3.58378261e-01, 4.66896649e-01, 6.44286032e-02,\n",
       "       1.98681474e-01, 4.99897057e-01, 6.92415432e-01, 3.79614558e-01,\n",
       "       4.82141142e-01, 7.99968317e-01, 5.17774007e-01, 8.75424576e-01,\n",
       "       3.33936890e-01, 8.31494920e-01, 1.63967855e-01, 2.16382319e-01,\n",
       "       6.88977826e-01, 2.69034673e-01, 7.13528994e-01, 2.79971274e-01,\n",
       "       1.01260234e-01, 9.02629619e-02, 5.46292381e-01, 9.34288642e-02,\n",
       "       7.41258252e-02, 7.16799793e-01, 3.58262786e-01, 8.28542010e-01,\n",
       "       4.64625412e-01, 4.13817069e-02, 3.38460461e-01, 6.33605836e-01,\n",
       "       6.78222276e-01, 8.77550452e-01, 1.88552480e-01, 6.85879100e-01,\n",
       "       9.76535581e-02, 3.53094533e-01, 6.54143780e-01, 9.84999040e-01])"
      ]
     },
     "execution_count": 46,
     "metadata": {},
     "output_type": "execute_result"
    }
   ],
   "source": [
    "# Solution goes here\n",
    "import numpy\n",
    "numpy.random.random(1000)\n"
   ]
  },
  {
   "cell_type": "code",
   "execution_count": null,
   "metadata": {},
   "outputs": [],
   "source": [
    "p"
   ]
  },
  {
   "cell_type": "code",
   "execution_count": 30,
   "metadata": {},
   "outputs": [],
   "source": [
    "# Solution goes here"
   ]
  },
  {
   "cell_type": "code",
   "execution_count": null,
   "metadata": {},
   "outputs": [],
   "source": []
  }
 ],
 "metadata": {
  "kernelspec": {
   "display_name": "Python 3",
   "language": "python",
   "name": "python3"
  },
  "language_info": {
   "codemirror_mode": {
    "name": "ipython",
    "version": 3
   },
   "file_extension": ".py",
   "mimetype": "text/x-python",
   "name": "python",
   "nbconvert_exporter": "python",
   "pygments_lexer": "ipython3",
   "version": "3.6.5"
  }
 },
 "nbformat": 4,
 "nbformat_minor": 1
}
